{
 "cells": [
  {
   "cell_type": "markdown",
   "metadata": {},
   "source": [
    "# Baseline Evaluation of GPT-4o for Functional Representation Extraction\n",
    "\n",
    "- In this notebook, I use OpenAI's [GPT-4o](https://openai.com/index/hello-gpt-4o/) model for structured functional representation extraction. \n",
    "- The goal is to evaluate GPT-4o's performance in extracting structural functional representations from the [VIGGO dataset](https://huggingface.co/datasets/GEM/viggo). \n",
    "- This evaluation will serve as the baseline performance for comparison with other models such as `Claude`, `Gemini`, `Llama-3-70b`, and most importantly, with custom fine-tuned open-source models like `llama-3-8b` and `mistral-7b`."
   ]
  },
  {
   "cell_type": "code",
   "execution_count": 488,
   "metadata": {},
   "outputs": [],
   "source": [
    "# load required libraries\n",
    "from datasets import load_dataset\n",
    "import os, re\n",
    "import random\n",
    "from openai import OpenAI\n",
    "import instructor\n",
    "from pydantic import BaseModel, Field\n",
    "import json\n",
    "import seaborn as sns\n",
    "import matplotlib.pyplot as plt\n"
   ]
  },
  {
   "cell_type": "markdown",
   "metadata": {},
   "source": [
    "## Viggo Dataset\n",
    "- [VIGGO dataset](https://huggingface.co/datasets/GEM/viggo) is a video game opinions data-to-text generation dataset. \n",
    "- It is intended to generate coherent conversational responses based on input functional representations (set of attributes and values). \n",
    "- **In this notebook, I use the reverse task, where we generate structured functional representations from the given text.**"
   ]
  },
  {
   "cell_type": "markdown",
   "metadata": {},
   "source": [
    "### Load the dataset\n",
    "- Since, I want to evaluate `GPT-4o` for structured representation extraction, I will only consider the VIGGO `validation dataset`."
   ]
  },
  {
   "cell_type": "code",
   "execution_count": 444,
   "metadata": {},
   "outputs": [
    {
     "data": {
      "text/plain": [
       "DatasetDict({\n",
       "    train: Dataset({\n",
       "        features: ['gem_id', 'meaning_representation', 'target', 'references'],\n",
       "        num_rows: 5103\n",
       "    })\n",
       "    validation: Dataset({\n",
       "        features: ['gem_id', 'meaning_representation', 'target', 'references'],\n",
       "        num_rows: 714\n",
       "    })\n",
       "    test: Dataset({\n",
       "        features: ['gem_id', 'meaning_representation', 'target', 'references'],\n",
       "        num_rows: 1083\n",
       "    })\n",
       "    challenge_train_1_percent: Dataset({\n",
       "        features: ['gem_id', 'meaning_representation', 'target', 'references'],\n",
       "        num_rows: 50\n",
       "    })\n",
       "    challenge_train_2_percent: Dataset({\n",
       "        features: ['gem_id', 'meaning_representation', 'target', 'references'],\n",
       "        num_rows: 103\n",
       "    })\n",
       "    challenge_train_5_percent: Dataset({\n",
       "        features: ['gem_id', 'meaning_representation', 'target', 'references'],\n",
       "        num_rows: 256\n",
       "    })\n",
       "    challenge_train_10_percent: Dataset({\n",
       "        features: ['gem_id', 'meaning_representation', 'target', 'references'],\n",
       "        num_rows: 510\n",
       "    })\n",
       "    challenge_train_20_percent: Dataset({\n",
       "        features: ['gem_id', 'meaning_representation', 'target', 'references'],\n",
       "        num_rows: 1021\n",
       "    })\n",
       "})"
      ]
     },
     "execution_count": 444,
     "metadata": {},
     "output_type": "execute_result"
    }
   ],
   "source": [
    "# load the dataset\n",
    "dataset = load_dataset(\"GEM/viggo\")\n",
    "dataset"
   ]
  },
  {
   "cell_type": "code",
   "execution_count": 446,
   "metadata": {},
   "outputs": [],
   "source": [
    "# Get the validation dataset\n",
    "val_dataset = dataset[\"validation\"]\n",
    "\n",
    "# rename \"meaning_representation\" to \"attributes\" and \"target\" to \"text\" for consistency\n",
    "val_dataset = val_dataset.rename_columns({\"meaning_representation\": \"attributes\", \"target\": \"text\"})\n",
    "\n",
    "# remove \"gem_id\" and \"reference\" columns\n",
    "val_dataset = val_dataset.remove_columns([\"gem_id\", \"references\"])\n",
    "\n",
    "# delete the original full dataset\n",
    "del dataset"
   ]
  },
  {
   "cell_type": "markdown",
   "metadata": {},
   "source": [
    "#### A few data examples"
   ]
  },
  {
   "cell_type": "code",
   "execution_count": 180,
   "metadata": {},
   "outputs": [
    {
     "name": "stdout",
     "output_type": "stream",
     "text": [
      "{'attributes': \"inform(name[Mirror's Edge Catalyst], genres[action-adventure, fighting], player_perspective[first person], has_multiplayer[yes], platforms[PlayStation, Xbox, PC], available_on_steam[no], has_linux_release[yes], has_mac_release[no])\", 'text': \"Mirror's Edge Catalyst is a first person action-adventure and fighting game. It has multiplayer and released on PlayStation, Xbox, and PC. It has a Linux release but it doesn't have a Mac release and isn't available on Steam.\"}\n",
      "{'attributes': 'inform(name[Grand Theft Auto V], release_year[2013], developer[Rockstar North], genres[action-adventure, driving/racing, shooter], player_perspective[first person, third person])', 'text': \"If you'd like to play an action-adventure game, Grand Theft Auto V is a first and third person game involving driving and shooting. It was developed by Rockstar North and released in 2013.\"}\n",
      "{'attributes': 'inform(name[Horizon: Zero Dawn], esrb[T (for Teen)], genres[action-adventure, role-playing, shooter], platforms[PlayStation])', 'text': 'Horizon: Zero Dawn was released for PlayStation only and is rated T (for Teen). This game is an action-adventure shooter RPG.'}\n",
      "{'attributes': 'verify_attribute(name[Crysis], developer[Crytek Frankfurt], rating[good], player_perspective[first person])', 'text': 'You said that you liked Crysis. Do you often play first person games from Crytek Frankfurt?'}\n",
      "{'attributes': 'request(specifier[fascinating])', 'text': \"Is there any game you've played lately that you felt was fascinating?\"}\n"
     ]
    }
   ],
   "source": [
    "# get 5 random examples from the validation dataset\n",
    "random_seed = 42\n",
    "random_idx_list = random.sample(range(len(val_dataset)), 5)\n",
    "for idx in random_idx_list: print(val_dataset[idx])\n",
    "\n",
    "random_seed = 42\n",
    "num_examples = 5\n",
    "random_idx_list = random.sample(range(len(val_dataset)), num_examples)\n",
    "\n",
    "for i,idx in enumerate(random_idx_list): \n",
    "    print(f\"\\nExample {idx+1}\")\n",
    "    for key in ['text', 'attributes']: \n",
    "        print(f\"{key:12s}: {val_dataset[key][idx]}\")"
   ]
  },
  {
   "cell_type": "markdown",
   "metadata": {},
   "source": [
    "- Upon looking at the examples, the output structured functional representation consists of a single function with attributes and attribute values. \n",
    "- According to the [VIGGO's dataset](https://huggingface.co/datasets/GEM/viggo) documentation, the function must be one of the following:\n",
    "    ```\n",
    "    ['inform', 'request', 'give_opinion', 'confirm', 'verify_attribute', 'suggest', 'request_explanation', 'recommend', 'request_attribute']\n",
    "    ```\n",
    "- While the attributes must be one of these:\n",
    "  ```\n",
    "  ['name', 'release_year', 'esrb', 'genres', 'platforms', 'available_on_steam', 'has_linux_release', 'has_mac_release', 'specifier', 'rating', 'player_perspective', 'has_multiplayer', 'developer', 'exp_release_date']\n",
    "  ```"
   ]
  },
  {
   "cell_type": "markdown",
   "metadata": {},
   "source": [
    "## Prompt for generating the functional representation\n",
    "\n",
    "- Since I want to evaluate `GPT-4o` performance on this task, I will first try to build a prompt that can be used to generate the desired correct structured data.\n",
    "- Fortunately, I can get a head start on the prompt by starting with the prompt template used in [Anyscale's blog](https://www.anyscale.com/blog/fine-tuning-llama-2-a-comprehensive-case-study-for-tailoring-models-to-unique-applications) for the VIGGO dataset.\n",
    "- The prompt template is a few-shot prompt with examples from each function category to assist the model in understanding the intended output response representation."
   ]
  },
  {
   "cell_type": "code",
   "execution_count": null,
   "metadata": {},
   "outputs": [],
   "source": [
    "PROMPT_TEMPLATE = \"\"\"\n",
    "Given a target sentence construct the underlying meaning representation of the input sentence as a single function with attributes and attribute values. \n",
    "This function should describe the target string accurately and the function must be one of the following ['inform', 'request', 'give_opinion', 'confirm', 'verify_attribute', 'suggest', 'request_explanation', 'recommend', 'request_attribute'].\n",
    "\n",
    "The attributes must be one of the following: ['name', 'exp_release_date', 'release_year', 'developer', 'esrb', 'rating', 'genres', 'player_perspective', 'has_multiplayer', 'platforms', 'available_on_steam', 'has_linux_release', 'has_mac_release', 'specifier']. The order your list the attributes within the function must follow the order listed above. For example the 'name' attribute must always come before the 'exp_release_date' attribute, and so forth.\n",
    "\n",
    "For each attribute, fill in the corresponding value of the attribute within brackets. A couple of examples are below. Note: you are to output the string after \"Output: \". Do not include \"Output: \" in your answer.\n",
    "\n",
    "Example 1)\n",
    "Sentence: Dirt: Showdown from 2012 is a sport racing game for the PlayStation, Xbox, PC rated E 10+ (for Everyone 10 and Older). It's not available on Steam, Linux, or Mac.\n",
    "Output: inform(name[Dirt: Showdown], release_year[2012], esrb[E 10+ (for Everyone 10 and Older)], genres[driving/racing, sport], platforms[PlayStation, Xbox, PC], available_on_steam[no], has_linux_release[no], has_mac_release[no])\n",
    "\n",
    "Example 2) \n",
    "Sentence: Were there even any terrible games in 2014?\n",
    "Output: request(release_year[2014], specifier[terrible])\n",
    "\n",
    "Example 3)\n",
    "Sentence: Adventure games that combine platforming and puzzles  can be frustrating to play, but the side view perspective is perfect for them. That's why I enjoyed playing Little Nightmares.\n",
    "Output: give_opinion(name[Little Nightmares], rating[good], genres[adventure, platformer, puzzle], player_perspective[side view])\n",
    "\n",
    "Example 4)\n",
    "Sentence: Since we're on the subject of games developed by Telltale Games, I'm wondering, have you played The Wolf Among Us?\n",
    "Output: recommend(name[The Wolf Among Us], developer[Telltale Games])\n",
    "\n",
    "Example 5) \n",
    "Sentence: Layers of Fear, the indie first person point-and-click adventure game?\n",
    "Output: confirm(name[Layers of Fear], genres[adventure, indie, point-and-click], player_perspective[first person])\t\n",
    "\n",
    "Example 6) \n",
    "Sentence: I bet you like it when you can play games on Steam, like Worms: Reloaded, right?\t\n",
    "Output: suggest(name[Worms: Reloaded], available_on_steam[yes])\n",
    "\n",
    "Example 7)\n",
    "Sentence: I recall you saying that you really enjoyed The Legend of Zelda: Ocarina of Time. Are you typically a big fan of games on Nintendo rated E (for Everyone)?\t\n",
    "Output: verify_attribute(name[The Legend of Zelda: Ocarina of Time], esrb[E (for Everyone)], rating[excellent], platforms[Nintendo])\n",
    "\n",
    "Example 8)\n",
    "Sentence: So what is it about the games that were released in 2005 that you find so excellent?\t\n",
    "Output: request_explanation(release_year[2005], rating[excellent])\n",
    "\n",
    "Example 9)\n",
    "Sentence: Do you think Mac is a better gaming platform than others?\n",
    "Output: request_attribute(has_mac_release[])\n",
    "\n",
    "Give the output for the following sentence:\n",
    "{input}\n",
    "\"\"\""
   ]
  },
  {
   "cell_type": "markdown",
   "metadata": {},
   "source": [
    "### Evaluate the prompt on random examples\n",
    "- I can evaluate the prompt on above random examples to get a sense of how well the model performs with the above prompt"
   ]
  },
  {
   "cell_type": "code",
   "execution_count": 24,
   "metadata": {},
   "outputs": [],
   "source": [
    "model = \"gpt-4o-2024-05-13\"\n",
    "client = OpenAI(api_key=os.getenv(\"OPENAI_API_KEY\"))"
   ]
  },
  {
   "cell_type": "code",
   "execution_count": 47,
   "metadata": {},
   "outputs": [],
   "source": [
    "# dictionary to store the responses\n",
    "gpt_responses_dict = {}\n",
    "\n",
    "# loop through the random indices and get the responses\n",
    "for i in random_idx_list:\n",
    "    \n",
    "    text = val_dataset[i][\"text\"]\n",
    "    ground_truth = val_dataset[i][\"attributes\"]\n",
    "    \n",
    "    prompt = PROMPT_TEMPLATE.format(input=text)\n",
    "\n",
    "    response = client.chat.completions.create(\n",
    "        model=model,\n",
    "        messages=[{\"role\": \"user\", \"content\": prompt}],\n",
    "        max_tokens=256,\n",
    "    )\n",
    "    output = response.choices[0].message.content\n",
    "    \n",
    "    gpt_responses_dict[i] = {\"text\": text, \"ground_truth\": ground_truth, \"output\": output}"
   ]
  },
  {
   "cell_type": "code",
   "execution_count": 48,
   "metadata": {},
   "outputs": [
    {
     "name": "stdout",
     "output_type": "stream",
     "text": [
      "Ground Truth: inform(name[FIFA 12], release_year[2011], esrb[E (for Everyone)], rating[average], genres[simulation, sport])\n",
      "GPT Response: inform(name[FIFA 12], release_year[2011], esrb[E (for Everyone)], rating[average], genres[sports, simulation])\n",
      "\n",
      "\n",
      "Ground Truth: request(player_perspective[side view], specifier[easy])\n",
      "GPT Response: Output: request(genres[side view], rating[top], specifier[easy])\n",
      "\n",
      "\n",
      "Ground Truth: recommend(name[Need for Speed: The Run], platforms[Xbox])\n",
      "GPT Response: confirm(name[Need for Speed: The Run], platforms[Xbox])\n",
      "\n",
      "\n",
      "Ground Truth: verify_attribute(name[Assassin's Creed II], rating[good], genres[action-adventure, platformer], platforms[PlayStation])\n",
      "GPT Response: verify_attribute(name[Assassin's Creed II], rating[good], genres[action-adventure, platformer], platforms[PlayStation])\n",
      "\n",
      "\n",
      "Ground Truth: give_opinion(name[BioShock], developer[2K Boston], esrb[M (for Mature)], rating[good])\n",
      "GPT Response: Output: give_opinion(name[BioShock], developer[2K Boston], rating[good], esrb[M (Mature)])\n",
      "\n",
      "\n"
     ]
    }
   ],
   "source": [
    "for k,v in gpt_responses_dict.items():\n",
    "    print(f\"Ground Truth: {v['ground_truth']}\\nGPT Response: {v['output']}\\n\\n\")"
   ]
  },
  {
   "cell_type": "markdown",
   "metadata": {},
   "source": [
    "### Improve the prompt template\n",
    "- Upon reviewing the above responses, it appears that the model is able to generate somewhat relevant structural representations for the given input sentences.\n",
    "- However, the responses are not always accurate, particularly regarding the attributes, their corresponding values, and their order.\n",
    "- Additionally, for some examples, the model's response starts with 'Output:', which is not ideal.\n",
    "- This issue might be due to the `Note: you are to output the string after \"Output: \"...` part being included too early in the prompt. A quick fix for this would be to move this part to the end of the prompt."
   ]
  },
  {
   "cell_type": "code",
   "execution_count": 50,
   "metadata": {},
   "outputs": [],
   "source": [
    "PROMPT_TEMPLATE = \"\"\"\n",
    "Given a target sentence construct the underlying meaning representation of the input sentence as a single function with attributes and attribute values. \n",
    "This function should describe the target string accurately and the function must be one of the following ['inform', 'request', 'give_opinion', 'confirm', 'verify_attribute', 'suggest', 'request_explanation', 'recommend', 'request_attribute'].\n",
    "\n",
    "The attributes must be one of the following: ['name', 'exp_release_date', 'release_year', 'developer', 'esrb', 'rating', 'genres', 'player_perspective', 'has_multiplayer', 'platforms', 'available_on_steam', 'has_linux_release', 'has_mac_release', 'specifier']. The order your list the attributes within the function must follow the order listed above. For example the 'name' attribute must always come before the 'exp_release_date' attribute, and so forth.\n",
    "\n",
    "For each attribute, fill in the corresponding value of the attribute within brackets. A couple of examples are below.\n",
    "\n",
    "Example 1)\n",
    "Sentence: Dirt: Showdown from 2012 is a sport racing game for the PlayStation, Xbox, PC rated E 10+ (for Everyone 10 and Older). It's not available on Steam, Linux, or Mac.\n",
    "Output: inform(name[Dirt: Showdown], release_year[2012], esrb[E 10+ (for Everyone 10 and Older)], genres[driving/racing, sport], platforms[PlayStation, Xbox, PC], available_on_steam[no], has_linux_release[no], has_mac_release[no])\n",
    "\n",
    "Example 2) \n",
    "Sentence: Were there even any terrible games in 2014?\n",
    "Output: request(release_year[2014], specifier[terrible])\n",
    "\n",
    "Example 3)\n",
    "Sentence: Adventure games that combine platforming and puzzles  can be frustrating to play, but the side view perspective is perfect for them. That's why I enjoyed playing Little Nightmares.\n",
    "Output: give_opinion(name[Little Nightmares], rating[good], genres[adventure, platformer, puzzle], player_perspective[side view])\n",
    "\n",
    "Example 4)\n",
    "Sentence: Since we're on the subject of games developed by Telltale Games, I'm wondering, have you played The Wolf Among Us?\n",
    "Output: recommend(name[The Wolf Among Us], developer[Telltale Games])\n",
    "\n",
    "Example 5) \n",
    "Sentence: Layers of Fear, the indie first person point-and-click adventure game?\n",
    "Output: confirm(name[Layers of Fear], genres[adventure, indie, point-and-click], player_perspective[first person])\t\n",
    "\n",
    "Example 6) \n",
    "Sentence: I bet you like it when you can play games on Steam, like Worms: Reloaded, right?\t\n",
    "Output: suggest(name[Worms: Reloaded], available_on_steam[yes])\n",
    "\n",
    "Example 7)\n",
    "Sentence: I recall you saying that you really enjoyed The Legend of Zelda: Ocarina of Time. Are you typically a big fan of games on Nintendo rated E (for Everyone)?\t\n",
    "Output: verify_attribute(name[The Legend of Zelda: Ocarina of Time], esrb[E (for Everyone)], rating[excellent], platforms[Nintendo])\n",
    "\n",
    "Example 8)\n",
    "Sentence: So what is it about the games that were released in 2005 that you find so excellent?\t\n",
    "Output: request_explanation(release_year[2005], rating[excellent])\n",
    "\n",
    "Example 9)\n",
    "Sentence: Do you think Mac is a better gaming platform than others?\n",
    "Output: request_attribute(has_mac_release[])\n",
    "\n",
    "Note: you are to output the string after \"Output: \". Do not include \"Output: \" in your answer.\n",
    "\n",
    "Give the output for the following sentence:\n",
    "{input}\n",
    "\"\"\""
   ]
  },
  {
   "cell_type": "code",
   "execution_count": 51,
   "metadata": {},
   "outputs": [],
   "source": [
    "# dictionary to store the responses\n",
    "gpt_responses_dict_update1 = {}\n",
    "\n",
    "# loop through the random indices and get the responses\n",
    "for i in random_idx_list:\n",
    "    \n",
    "    text = val_dataset[i][\"text\"]\n",
    "    ground_truth = val_dataset[i][\"attributes\"]\n",
    "    \n",
    "    prompt = PROMPT_TEMPLATE.format(input=text)\n",
    "\n",
    "    response = client.chat.completions.create(\n",
    "        model=model,\n",
    "        messages=[{\"role\": \"user\", \"content\": prompt}],\n",
    "        max_tokens=256,\n",
    "    )\n",
    "    output = response.choices[0].message.content\n",
    "    \n",
    "    gpt_responses_dict_update1[i] = {\"text\": text, \"ground_truth\": ground_truth, \"output\": output}"
   ]
  },
  {
   "cell_type": "code",
   "execution_count": 65,
   "metadata": {},
   "outputs": [
    {
     "name": "stdout",
     "output_type": "stream",
     "text": [
      "Ground Truth: inform(name[FIFA 12], release_year[2011], esrb[E (for Everyone)], rating[average], genres[simulation, sport])\n",
      "GPT Response: inform(name[FIFA 12], release_year[2011], esrb[E (for Everyone)], rating[average], genres[sports simulation])\n",
      "\n",
      "\n",
      "Ground Truth: request(player_perspective[side view], specifier[easy])\n",
      "GPT Response: request_attribute(genres[easy], player_perspective[side view], rating[tops them all])\n",
      "\n",
      "\n",
      "Ground Truth: recommend(name[Need for Speed: The Run], platforms[Xbox])\n",
      "GPT Response: confirm(name[Need for Speed: The Run], platforms[Xbox])\n",
      "\n",
      "\n",
      "Ground Truth: verify_attribute(name[Assassin's Creed II], rating[good], genres[action-adventure, platformer], platforms[PlayStation])\n",
      "GPT Response: verify_attribute(name[Assassin's Creed II], rating[good], genres[action-adventure, platformer], platforms[PlayStation])\n",
      "\n",
      "\n",
      "Ground Truth: give_opinion(name[BioShock], developer[2K Boston], esrb[M (for Mature)], rating[good])\n",
      "GPT Response: give_opinion(name[BioShock], developer[2K Boston], rating[good], esrb[M])\n",
      "\n",
      "\n"
     ]
    }
   ],
   "source": [
    "for k,v in gpt_responses_dict_update1.items():\n",
    "    print(f\"Ground Truth: {v['ground_truth']}\\nGPT Response: {v['output']}\\n\\n\")"
   ]
  },
  {
   "cell_type": "markdown",
   "metadata": {},
   "source": [
    "> The responses are much better now, with no 'Output:' in the response. Although the responses are still not perfect, the prompt template can be used for evaluation purposes."
   ]
  },
  {
   "cell_type": "markdown",
   "metadata": {},
   "source": [
    "## Evaluation criteria for the task\n",
    "\n",
    "- Next, I need some evaluation criteria to assess the model's performance. I can evaluate the model's performance based on the following binary criteria:\n",
    "  1. **Function Name Match**: The function name must match the ground truth function name.\n",
    "  2. **Function and Attributes Match**: The generated function name and attributes must match the ground truth function attributes. However, the order of the attributes does not matter.\n",
    "  3. **Function, Attributes, and Values Match**: The generated function name, attributes, and values must match the ground truth function attributes and values. The order of the attributes and values does not matter.\n",
    "  4. **Exact Match**: The generated function must exactly match the ground truth function.\n",
    "\n",
    "- The above criteria are in order of increasing strictness. The first criterion is the least strict, and the last criterion is the most strict. These criteria will help me evaluate the model's performance.\n",
    "\n",
    "- **Although not ideal, I can use the `GPT-4` model to evaluate its own performance on the given task.**\n",
    "- I can write a prompt that asks the model to compare the generated function with the ground truth function and provide a score based on the above evaluation criteria. For example, I can use the following prompt to evaluate the model's performance:"
   ]
  },
  {
   "cell_type": "code",
   "execution_count": 342,
   "metadata": {},
   "outputs": [],
   "source": [
    "PROMPT_TEMPLATE_SCORE = \"\"\"I will provide you with two functional representations strings. One will be the ground truth representation (ground_truth) and the other will be a generated representation (generated). You need to compare the generated representation with the ground truth representation and provide the following similarity match in true or false:\n",
    "1) function_match: The function name is the same but the attributes and values can be different.\n",
    "2) function_attributes_match: The function and the attributes are the same but the values can be different.\n",
    "3) function_attributes_values_match: The generated representation has same function and attributes and corresponding values without the same attributes and values order.\n",
    "4) exact_match: The generated representation is exactly the same as the ground truth representation.\n",
    "    \n",
    "A typical functional representation is of this form: function(attribute1[values], attribute2[values], attribute3[values], ...). \n",
    "\n",
    "Please provide the output in JSON format.\n",
    "\n",
    "Given the following two functional representation, provide the similarity scores for the following:\n",
    "\n",
    "ground_truth: {ground_truth}\n",
    "\n",
    "generated: {generated}\n",
    "\"\"\"\n"
   ]
  },
  {
   "cell_type": "markdown",
   "metadata": {},
   "source": [
    "### Calculate the evaluation score on some generated response"
   ]
  },
  {
   "cell_type": "code",
   "execution_count": 343,
   "metadata": {},
   "outputs": [
    {
     "name": "stdout",
     "output_type": "stream",
     "text": [
      "120\n",
      "Ground Truth: inform(name[FIFA 12], release_year[2011], esrb[E (for Everyone)], rating[average], genres[simulation, sport])\n",
      "GPT Response: inform(name[FIFA 12], release_year[2011], esrb[E (for Everyone)], rating[average], genres[sports simulation])\n",
      "\n",
      "```json\n",
      "{\n",
      "  \"function_match\": true,\n",
      "  \"function_attributes_match\": true,\n",
      "  \"function_attributes_values_match\": false,\n",
      "  \"exact_match\": false\n",
      "}\n",
      "``` \n",
      "\n",
      "\n",
      "568\n",
      "Ground Truth: request(player_perspective[side view], specifier[easy])\n",
      "GPT Response: request_attribute(genres[easy], player_perspective[side view], rating[tops them all])\n",
      "\n",
      "```json\n",
      "{\n",
      "  \"function_match\": false,\n",
      "  \"function_attributes_match\": false,\n",
      "  \"function_attributes_values_match\": false,\n",
      "  \"exact_match\": false\n",
      "}\n",
      "``` \n",
      "\n",
      "\n",
      "224\n",
      "Ground Truth: recommend(name[Need for Speed: The Run], platforms[Xbox])\n",
      "GPT Response: confirm(name[Need for Speed: The Run], platforms[Xbox])\n",
      "\n",
      "```json\n",
      "{\n",
      "    \"function_match\": false,\n",
      "    \"function_attributes_match\": false,\n",
      "    \"function_attributes_values_match\": false,\n",
      "    \"exact_match\": false\n",
      "}\n",
      "``` \n",
      "\n",
      "\n",
      "256\n",
      "Ground Truth: verify_attribute(name[Assassin's Creed II], rating[good], genres[action-adventure, platformer], platforms[PlayStation])\n",
      "GPT Response: verify_attribute(name[Assassin's Creed II], rating[good], genres[action-adventure, platformer], platforms[PlayStation])\n",
      "\n",
      "```json\n",
      "{\n",
      "  \"function_match\": true,\n",
      "  \"function_attributes_match\": true,\n",
      "  \"function_attributes_values_match\": true,\n",
      "  \"exact_match\": true\n",
      "}\n",
      "``` \n",
      "\n",
      "\n",
      "394\n",
      "Ground Truth: give_opinion(name[BioShock], developer[2K Boston], esrb[M (for Mature)], rating[good])\n",
      "GPT Response: give_opinion(name[BioShock], developer[2K Boston], rating[good], esrb[M])\n",
      "\n",
      "```json\n",
      "{\n",
      "    \"function_match\": true,\n",
      "    \"function_attributes_match\": true,\n",
      "    \"function_attributes_values_match\": true,\n",
      "    \"exact_match\": false\n",
      "}\n",
      "``` \n",
      "\n",
      "\n"
     ]
    }
   ],
   "source": [
    "# Get the responses for the evaluation criteria\n",
    "for k,v in gpt_responses_dict_update1.items():\n",
    "    print(k)\n",
    "    print(f\"Ground Truth: {v['ground_truth']}\\nGPT Response: {v['output']}\\n\")\n",
    "        \n",
    "    prompt = PROMPT_TEMPLATE_SCORE.format(ground_truth=v['ground_truth'], generated=v['output'])\n",
    "\n",
    "    response = client.chat.completions.create(\n",
    "        model=model,\n",
    "        messages=[{\"role\": \"user\", \"content\": prompt}],\n",
    "        max_tokens=256,\n",
    "    )\n",
    "    output = response.choices[0].message.content\n",
    "    print(output,\"\\n\\n\")"
   ]
  },
  {
   "cell_type": "markdown",
   "metadata": {},
   "source": [
    "### Improve the evaluation task using `Instructor`\n",
    "\n",
    "- Looking at the output, I can see that the model is able to evaluate its own performance based on the provided evaluation criteria. \n",
    "- However, I need the evaluation scores in a more structured format to analyze the model's performance effectively. \n",
    "- A better way to achieve this is by using a package like [instructor](https://python.useinstructor.com/) to obtain the evaluation scores in a structured format. \n",
    "- I can use the following code and a modified score prompt template to get the evaluation scores in a structured format."
   ]
  },
  {
   "cell_type": "code",
   "execution_count": 345,
   "metadata": {},
   "outputs": [],
   "source": [
    "# Define the pydantic model for the evaluation function\n",
    "\n",
    "class EvaluateFunctionRepresentation(BaseModel):\n",
    "    function_match: bool = Field(description=\"The function name is the same but the attributes and values can be different.\")\n",
    "    function_attribute_match: bool = Field(description=\"The function and the attributes are the same but the values can be different.\")\n",
    "    function_attributes_values_match: bool = Field(description=\"The generated representation has same function and attributes and corresponding values without the same attributes and values order.\")\n",
    "    exact_match: bool = Field(description=\"The generated representation is exactly the same as the ground truth representation.\")"
   ]
  },
  {
   "cell_type": "code",
   "execution_count": 349,
   "metadata": {},
   "outputs": [],
   "source": [
    "PROMPT_TEMPLATE_SCORE_EVAL = \"\"\"I will provide you with two functional representations strings. One will be the ground truth representation (ground_truth) and the other will be a generated representation (generated). You need to compare the generated representation with the ground truth representation and provide the following similarity match in true or false:\n",
    "1) function_match\n",
    "2) function_attributes_match\n",
    "3) function_attributes_values_match\n",
    "4) exact_match\n",
    "\n",
    "A typical functional representation is of this form: function(attribute1[values], attribute2[values], attribute3[values], ...). \n",
    "\n",
    "Given the following two functional representation, provide the similarity scores for the following:\n",
    "\n",
    "ground_truth: {ground_truth}\n",
    "\n",
    "generated: {generated}\n",
    "\n",
    "Let's think step by step.\n",
    "\"\"\""
   ]
  },
  {
   "cell_type": "code",
   "execution_count": null,
   "metadata": {},
   "outputs": [],
   "source": [
    "client_eval = instructor.patch(OpenAI(api_key=os.getenv(\"OPENAI_API_KEY\")), mode=instructor.Mode.JSON)"
   ]
  },
  {
   "cell_type": "code",
   "execution_count": 350,
   "metadata": {},
   "outputs": [
    {
     "name": "stdout",
     "output_type": "stream",
     "text": [
      "Index: 120\n",
      "Ground Truth: inform(name[FIFA 12], release_year[2011], esrb[E (for Everyone)], rating[average], genres[simulation, sport])\n",
      "GPT Response: inform(name[FIFA 12], release_year[2011], esrb[E (for Everyone)], rating[average], genres[sports simulation])\n",
      "\n",
      "function_match                          : True\n",
      "function_attribute_match                : True\n",
      "function_attributes_values_match        : False\n",
      "exact_match                             : False\n",
      "\n",
      "\n",
      "\n",
      "Index: 568\n",
      "Ground Truth: request(player_perspective[side view], specifier[easy])\n",
      "GPT Response: request_attribute(genres[easy], player_perspective[side view], rating[tops them all])\n",
      "\n",
      "function_match                          : False\n",
      "function_attribute_match                : False\n",
      "function_attributes_values_match        : False\n",
      "exact_match                             : False\n",
      "\n",
      "\n",
      "\n",
      "Index: 224\n",
      "Ground Truth: recommend(name[Need for Speed: The Run], platforms[Xbox])\n",
      "GPT Response: confirm(name[Need for Speed: The Run], platforms[Xbox])\n",
      "\n",
      "function_match                          : False\n",
      "function_attribute_match                : False\n",
      "function_attributes_values_match        : False\n",
      "exact_match                             : False\n",
      "\n",
      "\n",
      "\n",
      "Index: 256\n",
      "Ground Truth: verify_attribute(name[Assassin's Creed II], rating[good], genres[action-adventure, platformer], platforms[PlayStation])\n",
      "GPT Response: verify_attribute(name[Assassin's Creed II], rating[good], genres[action-adventure, platformer], platforms[PlayStation])\n",
      "\n",
      "function_match                          : True\n",
      "function_attribute_match                : True\n",
      "function_attributes_values_match        : True\n",
      "exact_match                             : True\n",
      "\n",
      "\n",
      "\n",
      "Index: 394\n",
      "Ground Truth: give_opinion(name[BioShock], developer[2K Boston], esrb[M (for Mature)], rating[good])\n",
      "GPT Response: give_opinion(name[BioShock], developer[2K Boston], rating[good], esrb[M])\n",
      "\n",
      "function_match                          : True\n",
      "function_attribute_match                : True\n",
      "function_attributes_values_match        : False\n",
      "exact_match                             : False\n",
      "\n",
      "\n",
      "\n"
     ]
    }
   ],
   "source": [
    "for k,v in gpt_responses_dict_update1.items():\n",
    "    print(f\"Index: {k}\\nGround Truth: {v['ground_truth']}\\nGPT Response: {v['output']}\\n\")\n",
    "    \n",
    "    prompt = PROMPT_TEMPLATE_SCORE_EVAL.format(ground_truth=v['ground_truth'], generated=v['output'])\n",
    "\n",
    "    response = client_eval.chat.completions.create(\n",
    "        model=model,\n",
    "        messages=[{\"role\": \"user\", \"content\": prompt}],\n",
    "        max_tokens=256,\n",
    "        response_model=EvaluateFunctionRepresentation,\n",
    "        max_retries=2,\n",
    "    )\n",
    "    \n",
    "    for k,v in response.model_dump().items(): print(f\"{k:40s}: {v}\")\n",
    "    print(\"\\n\\n\")"
   ]
  },
  {
   "cell_type": "markdown",
   "metadata": {},
   "source": [
    "> Now, the evaluation scores are in a structured format that can be easily analyzed."
   ]
  },
  {
   "cell_type": "markdown",
   "metadata": {},
   "source": [
    "## Generate the responses for the full dataset"
   ]
  },
  {
   "cell_type": "code",
   "execution_count": 355,
   "metadata": {},
   "outputs": [
    {
     "name": "stdout",
     "output_type": "stream",
     "text": [
      "Processing example 0 of 714\n",
      "Processing example 100 of 714\n",
      "Processing example 200 of 714\n",
      "Processing example 300 of 714\n",
      "Processing example 400 of 714\n",
      "Processing example 500 of 714\n",
      "Processing example 600 of 714\n",
      "Processing example 700 of 714\n",
      "CPU times: user 5.86 s, sys: 262 ms, total: 6.12 s\n",
      "Wall time: 13min 22s\n"
     ]
    }
   ],
   "source": [
    "gpt_responses_dict = {}\n",
    "for i in range(len(val_dataset)):\n",
    "    if i % 100 == 0: print(f\"Processing example {i} of {len(val_dataset)}\")\n",
    "    text = val_dataset[i][\"text\"]\n",
    "    ground_truth = val_dataset[i][\"attributes\"]\n",
    "    \n",
    "    prompt = PROMPT_TEMPLATE.format(input=text)\n",
    "\n",
    "    response = client.chat.completions.create(\n",
    "        model=model,\n",
    "        messages=[{\"role\": \"user\", \"content\": prompt}],\n",
    "        max_tokens=256,\n",
    "    )\n",
    "    output = response.choices[0].message.content\n",
    "    \n",
    "    gpt_responses_dict[i] = {\"text\": text, \"ground_truth\": ground_truth, \"output\": output}"
   ]
  },
  {
   "cell_type": "markdown",
   "metadata": {},
   "source": [
    "> took around 13 mins 22s to run 714 examples (approx 1.1s per example)"
   ]
  },
  {
   "cell_type": "code",
   "execution_count": 357,
   "metadata": {},
   "outputs": [],
   "source": [
    "# save the responses to a file for future reference\n",
    "with open(\"gpt_responses_viggo_eval.json\", \"w\") as f:\n",
    "    json.dump(gpt_responses_dict, f)"
   ]
  },
  {
   "cell_type": "markdown",
   "metadata": {},
   "source": [
    "## Generate the evaluation scores for the full dataset"
   ]
  },
  {
   "cell_type": "code",
   "execution_count": 372,
   "metadata": {},
   "outputs": [
    {
     "name": "stdout",
     "output_type": "stream",
     "text": [
      "Processing example 0 of 714\n",
      "Processing example 100 of 714\n",
      "Processing example 200 of 714\n",
      "Processing example 300 of 714\n",
      "Processing example 400 of 714\n",
      "Processing example 500 of 714\n",
      "Processing example 600 of 714\n",
      "Processing example 700 of 714\n"
     ]
    }
   ],
   "source": [
    "scores_dict = {}\n",
    "for i, (k,v) in enumerate(gpt_responses_dict.items()):\n",
    "    if i%100 ==0: print(f\"Processing example {i} of {len(gpt_responses_dict)}\")\n",
    "    prompt = PROMPT_TEMPLATE_SCORE_EVAL.format(ground_truth=v['ground_truth'], generated=v['output'])\n",
    "\n",
    "    response = client_eval.chat.completions.create(\n",
    "        model=model,\n",
    "        messages=[{\"role\": \"user\", \"content\": prompt}],\n",
    "        max_tokens=256,\n",
    "        response_model=EvaluateFunctionRepresentation,\n",
    "        max_retries=2,\n",
    "    )\n",
    "    \n",
    "    scores_dict[k] = response.model_dump()"
   ]
  },
  {
   "cell_type": "markdown",
   "metadata": {},
   "source": [
    "### Get the average scores\n"
   ]
  },
  {
   "cell_type": "code",
   "execution_count": 482,
   "metadata": {},
   "outputs": [
    {
     "name": "stdout",
     "output_type": "stream",
     "text": [
      "function_match                          : 0.80\n",
      "function_attribute_match                : 0.74\n",
      "function_attributes_values_match        : 0.49\n",
      "exact_match                             : 0.30\n"
     ]
    }
   ],
   "source": [
    "avg_scores = {k: sum([v[k] for v in scores_dict.values()])/len(scores_dict) for k in scores_dict[0].keys()}\n",
    "for k,v in avg_scores.items(): print(f\"{k:40s}: {v:.2f}\")"
   ]
  },
  {
   "cell_type": "markdown",
   "metadata": {},
   "source": [
    "### Visualize the average scores for the evaluation criteria"
   ]
  },
  {
   "cell_type": "code",
   "execution_count": 486,
   "metadata": {},
   "outputs": [
    {
     "data": {
      "image/png": "[encoded data removed]",
      "text/plain": [
       "<Figure size 640x480 with 1 Axes>"
      ]
     },
     "metadata": {},
     "output_type": "display_data"
    }
   ],
   "source": [
    "# make a bar plot of the scores \n",
    "scores_list = [round(avg_scores[k],2) for k in avg_scores.keys()]\n",
    "scores_labels = [k for k in avg_scores.keys()]\n",
    "\n",
    "# make the bar plot\n",
    "ax = sns.barplot(x=scores_list, y=scores_labels, hue=scores_labels, palette=\"viridis\")\n",
    "\n",
    "# set the title\n",
    "plt.title(\"GPT-4o Evaluation Scores\", fontsize=14, fontweight=\"bold\", fontname=\"Arial\")\n",
    "\n",
    "# set x and y labels\n",
    "plt.xlabel(\"Scores\", fontsize=11, fontname=\"Arial\", fontweight=\"bold\")\n",
    "plt.ylabel(\"\",fontsize=11, fontname=\"Arial\", fontweight=\"bold\")\n",
    "\n",
    "# set x and y ticks\n",
    "plt.yticks(fontsize=11, fontname=\"Arial\")\n",
    "plt.xticks(fontsize=11, fontname=\"Arial\", rotation=45)\n",
    "\n",
    "# set x-axis limits\n",
    "plt.xlim(0, 0.9)\n",
    "\n",
    "# score values on the bars\n",
    "for i in range(len(scores_list)):\n",
    "    plt.text(scores_list[i], i, scores_list[i], va='center', fontsize=12, fontname=\"Arial\", fontweight=\"bold\")\n",
    "\n",
    "# save the plot\n",
    "plt.savefig(\"gpt-4o-evaluation-scores.png\", dpi=300, bbox_inches=\"tight\")\n"
   ]
  },
  {
   "cell_type": "code",
   "execution_count": 492,
   "metadata": {},
   "outputs": [],
   "source": [
    "# Save the evaluation scores, avg. scores to files for future reference.\n",
    "with open(\"gpt-4o-evaluation-scores.json\", \"w\") as f:\n",
    "    json.dump(scores_dict, f)\n",
    "\n",
    "with open(\"gpt-4o-avg-evaluation-scores.json\", \"w\") as f:\n",
    "    json.dump(avg_scores, f)"
   ]
  },
  {
   "cell_type": "markdown",
   "metadata": {},
   "source": [
    "> The task of generating functional representations from natural language sentences is challenging. The best the model can do is to provide the correct function name `80%` of the time whereas the exact match is only for 30% of the examples."
   ]
  },
  {
   "cell_type": "markdown",
   "metadata": {},
   "source": [
    "## Links"
   ]
  },
  {
   "cell_type": "markdown",
   "metadata": {},
   "source": [
    "- Alex Strict van Linchoten blog: [Evaluating the Baseline Performance of GPT-4-Turbo for Structured Data Extraction](https://mlops.systems/posts/2024-06-03-isafpr-evaluating-baseline.html)\n",
    "- Viggo's dataset: [HuggingFace Link](https://huggingface.co/datasets/GEM/viggo)\n",
    "- Anyscale's blog on fine-tuning Llama models for domain applications: [Fine-Tuning Llama-2: A Comprehensive Case Study for Tailoring Models to Unique Applications](https://www.anyscale.com/blog/fine-tuning-llama-2-a-comprehensive-case-study-for-tailoring-models-to-unique-applications)"
   ]
  }
 ],
 "metadata": {
  "kernelspec": {
   "display_name": "langchain",
   "language": "python",
   "name": "python3"
  },
  "language_info": {
   "codemirror_mode": {
    "name": "ipython",
    "version": 3
   },
   "file_extension": ".py",
   "mimetype": "text/x-python",
   "name": "python",
   "nbconvert_exporter": "python",
   "pygments_lexer": "ipython3",
   "version": "3.10.13"
  }
 },
 "nbformat": 4,
 "nbformat_minor": 2
}
